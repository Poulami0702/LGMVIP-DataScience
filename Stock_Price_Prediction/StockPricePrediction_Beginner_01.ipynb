{
  "nbformat": 4,
  "nbformat_minor": 0,
  "metadata": {
    "language_info": {
      "name": "python",
      "version": "3.7.9",
      "mimetype": "text/x-python",
      "codemirror_mode": {
        "name": "ipython",
        "version": 3
      },
      "pygments_lexer": "ipython3",
      "nbconvert_exporter": "python",
      "file_extension": ".py"
    },
    "kernelspec": {
      "language": "python",
      "display_name": "Python 3",
      "name": "python3"
    },
    "colab": {
      "name": "StockPricePrediction-Beginner-01.ipynb",
      "provenance": []
    }
  },
  "cells": [
    {
      "cell_type": "code",
      "metadata": {
        "trusted": true,
        "id": "BdiYalZoXc_E"
      },
      "source": [
        "#reading the csv file\n",
        "import numpy as np\n",
        "import pandas as pd \n",
        "#We are going to use the Apple AAPL Historical Stock Dataset and store the data in df variable. \n",
        "df=pd.read_csv('/content/HistoricalQuotes.csv')"
      ],
      "execution_count": 2,
      "outputs": []
    },
    {
      "cell_type": "code",
      "metadata": {
        "trusted": true,
        "colab": {
          "base_uri": "https://localhost:8080/",
          "height": 206
        },
        "id": "jw_Yhrw0Xc_F",
        "outputId": "f67fec5f-9e10-4472-eb23-e3f3ded0eda9"
      },
      "source": [
        "df.head() #printing the first 5 rows."
      ],
      "execution_count": 3,
      "outputs": [
        {
          "output_type": "execute_result",
          "data": {
            "text/html": [
              "<div>\n",
              "<style scoped>\n",
              "    .dataframe tbody tr th:only-of-type {\n",
              "        vertical-align: middle;\n",
              "    }\n",
              "\n",
              "    .dataframe tbody tr th {\n",
              "        vertical-align: top;\n",
              "    }\n",
              "\n",
              "    .dataframe thead th {\n",
              "        text-align: right;\n",
              "    }\n",
              "</style>\n",
              "<table border=\"1\" class=\"dataframe\">\n",
              "  <thead>\n",
              "    <tr style=\"text-align: right;\">\n",
              "      <th></th>\n",
              "      <th>Date</th>\n",
              "      <th>Close/Last</th>\n",
              "      <th>Volume</th>\n",
              "      <th>Open</th>\n",
              "      <th>High</th>\n",
              "      <th>Low</th>\n",
              "    </tr>\n",
              "  </thead>\n",
              "  <tbody>\n",
              "    <tr>\n",
              "      <th>0</th>\n",
              "      <td>02/28/2020</td>\n",
              "      <td>$273.36</td>\n",
              "      <td>106721200</td>\n",
              "      <td>$257.26</td>\n",
              "      <td>$278.41</td>\n",
              "      <td>$256.37</td>\n",
              "    </tr>\n",
              "    <tr>\n",
              "      <th>1</th>\n",
              "      <td>02/27/2020</td>\n",
              "      <td>$273.52</td>\n",
              "      <td>80151380</td>\n",
              "      <td>$281.1</td>\n",
              "      <td>$286</td>\n",
              "      <td>$272.96</td>\n",
              "    </tr>\n",
              "    <tr>\n",
              "      <th>2</th>\n",
              "      <td>02/26/2020</td>\n",
              "      <td>$292.65</td>\n",
              "      <td>49678430</td>\n",
              "      <td>$286.53</td>\n",
              "      <td>$297.88</td>\n",
              "      <td>$286.5</td>\n",
              "    </tr>\n",
              "    <tr>\n",
              "      <th>3</th>\n",
              "      <td>02/25/2020</td>\n",
              "      <td>$288.08</td>\n",
              "      <td>57668360</td>\n",
              "      <td>$300.95</td>\n",
              "      <td>$302.53</td>\n",
              "      <td>$286.13</td>\n",
              "    </tr>\n",
              "    <tr>\n",
              "      <th>4</th>\n",
              "      <td>02/24/2020</td>\n",
              "      <td>$298.18</td>\n",
              "      <td>55548830</td>\n",
              "      <td>$297.26</td>\n",
              "      <td>$304.18</td>\n",
              "      <td>$289.23</td>\n",
              "    </tr>\n",
              "  </tbody>\n",
              "</table>\n",
              "</div>"
            ],
            "text/plain": [
              "         Date  Close/Last     Volume      Open      High       Low\n",
              "0  02/28/2020     $273.36  106721200   $257.26   $278.41   $256.37\n",
              "1  02/27/2020     $273.52   80151380    $281.1      $286   $272.96\n",
              "2  02/26/2020     $292.65   49678430   $286.53   $297.88    $286.5\n",
              "3  02/25/2020     $288.08   57668360   $300.95   $302.53   $286.13\n",
              "4  02/24/2020     $298.18   55548830   $297.26   $304.18   $289.23"
            ]
          },
          "metadata": {
            "tags": []
          },
          "execution_count": 3
        }
      ]
    },
    {
      "cell_type": "code",
      "metadata": {
        "trusted": true,
        "colab": {
          "base_uri": "https://localhost:8080/"
        },
        "id": "EZRFkcMCXc_G",
        "outputId": "5ded02f3-b25b-4042-f962-d3205aa7f053"
      },
      "source": [
        "#Printing the shape of the data and the datatypes of each features\n",
        "df.shape , df.dtypes"
      ],
      "execution_count": 4,
      "outputs": [
        {
          "output_type": "execute_result",
          "data": {
            "text/plain": [
              "((2518, 6), Date           object\n",
              "  Close/Last    object\n",
              "  Volume         int64\n",
              "  Open          object\n",
              "  High          object\n",
              "  Low           object\n",
              " dtype: object)"
            ]
          },
          "metadata": {
            "tags": []
          },
          "execution_count": 4
        }
      ]
    },
    {
      "cell_type": "code",
      "metadata": {
        "trusted": true,
        "colab": {
          "base_uri": "https://localhost:8080/"
        },
        "id": "Cg-zqHWhXc_H",
        "outputId": "91ed650a-b6c2-47df-82ac-765c02da4e41"
      },
      "source": [
        "#This will help us view the datatypes, missing values and many more insights of the dataset and its features.\n",
        "df.info() "
      ],
      "execution_count": 5,
      "outputs": [
        {
          "output_type": "stream",
          "text": [
            "<class 'pandas.core.frame.DataFrame'>\n",
            "RangeIndex: 2518 entries, 0 to 2517\n",
            "Data columns (total 6 columns):\n",
            " #   Column       Non-Null Count  Dtype \n",
            "---  ------       --------------  ----- \n",
            " 0   Date         2518 non-null   object\n",
            " 1    Close/Last  2518 non-null   object\n",
            " 2    Volume      2518 non-null   int64 \n",
            " 3    Open        2518 non-null   object\n",
            " 4    High        2518 non-null   object\n",
            " 5    Low         2518 non-null   object\n",
            "dtypes: int64(1), object(5)\n",
            "memory usage: 118.2+ KB\n"
          ],
          "name": "stdout"
        }
      ]
    },
    {
      "cell_type": "code",
      "metadata": {
        "trusted": true,
        "colab": {
          "base_uri": "https://localhost:8080/"
        },
        "id": "5X1OGqXkXc_H",
        "outputId": "dc11302f-980c-4c52-ac88-7625752fc6ee"
      },
      "source": [
        "#Now, lets select one feature to make the problem a univariate one. We will be selecting the Close/Last stock price. \n",
        "# For that we will use the df.iloc and select all the rows and, only the 2nd column.\n",
        "# Lets see the new dataframe, df1 using df1.head()\n",
        "df1 = df.iloc[:,3]\n",
        "df1.head()"
      ],
      "execution_count": 6,
      "outputs": [
        {
          "output_type": "execute_result",
          "data": {
            "text/plain": [
              "0     $257.26\n",
              "1      $281.1\n",
              "2     $286.53\n",
              "3     $300.95\n",
              "4     $297.26\n",
              "Name:  Open, dtype: object"
            ]
          },
          "metadata": {
            "tags": []
          },
          "execution_count": 6
        }
      ]
    },
    {
      "cell_type": "code",
      "metadata": {
        "trusted": true,
        "colab": {
          "base_uri": "https://localhost:8080/"
        },
        "id": "S_XTPWZiXc_I",
        "outputId": "03eb8155-a123-4334-f8ba-7dc5a0519b87"
      },
      "source": [
        "#We can see the data in the selected column are not numbers, rather they are objects (currency) as they have Dollar sign as the prefix. \n",
        "#Now, we will use regular expression to substitute the Dollar sign with a null '' and typecast the values to float. \n",
        "#Let's see how they will look after this preprocessing\n",
        "df1 = df1.replace('[\\$,]', '', regex=True).astype(float)\n",
        "df1.head()"
      ],
      "execution_count": 7,
      "outputs": [
        {
          "output_type": "execute_result",
          "data": {
            "text/plain": [
              "0    257.26\n",
              "1    281.10\n",
              "2    286.53\n",
              "3    300.95\n",
              "4    297.26\n",
              "Name:  Open, dtype: float64"
            ]
          },
          "metadata": {
            "tags": []
          },
          "execution_count": 7
        }
      ]
    },
    {
      "cell_type": "code",
      "metadata": {
        "trusted": true,
        "colab": {
          "base_uri": "https://localhost:8080/",
          "height": 283
        },
        "id": "d3lWIzy0Xc_I",
        "outputId": "40be0a88-49a5-4ec5-8daf-97c65e402829"
      },
      "source": [
        "#Now, it is time to plot the data. Let's use plt.plot from the matplotlib library to plot the data and visualize the behavior.\n",
        "import matplotlib.pyplot as plt\n",
        "%matplotlib inline\n",
        "plt.plot(df1)"
      ],
      "execution_count": 8,
      "outputs": [
        {
          "output_type": "execute_result",
          "data": {
            "text/plain": [
              "[<matplotlib.lines.Line2D at 0x7ffa6b05c910>]"
            ]
          },
          "metadata": {
            "tags": []
          },
          "execution_count": 8
        },
        {
          "output_type": "display_data",
          "data": {
            "image/png": "[encoded data removed]",
            "text/plain": [
              "<Figure size 432x288 with 1 Axes>"
            ]
          },
          "metadata": {
            "tags": [],
            "needs_background": "light"
          }
        }
      ]
    },
    {
      "cell_type": "code",
      "metadata": {
        "trusted": true,
        "colab": {
          "base_uri": "https://localhost:8080/",
          "height": 283
        },
        "id": "gtPPINJrXc_J",
        "outputId": "38b66c79-7930-472e-d122-0f60fd7b3381"
      },
      "source": [
        "#Cleaning the data \n",
        "df1 = df.iloc[:,1]\n",
        "df1 = df1.replace('[\\$,]', '', regex=True).astype(float)\n",
        "plt.plot(df1, color='r')"
      ],
      "execution_count": 9,
      "outputs": [
        {
          "output_type": "execute_result",
          "data": {
            "text/plain": [
              "[<matplotlib.lines.Line2D at 0x7ffa6ab29b50>]"
            ]
          },
          "metadata": {
            "tags": []
          },
          "execution_count": 9
        },
        {
          "output_type": "display_data",
          "data": {
            "image/png": "[encoded data removed]",
            "text/plain": [
              "<Figure size 432x288 with 1 Axes>"
            ]
          },
          "metadata": {
            "tags": [],
            "needs_background": "light"
          }
        }
      ]
    },
    {
      "cell_type": "code",
      "metadata": {
        "trusted": true,
        "id": "77PoGe9sXc_L"
      },
      "source": [
        "#So, we have now a general idea of the stock price data's behavior. \n",
        "#Now, lets Normalize the data. Normalization is a very important part for any Recurrent Neural Network. \n",
        "#For our LSTM model, normalization will play an important role. \n",
        "#Normalization using MinMaxScaler will bring our entire datapoints between a minimum and a maximum value. \n",
        "#For this purpose, we will use the values (0,1).\n",
        "from sklearn.preprocessing import MinMaxScaler\n",
        "scaler = MinMaxScaler(feature_range = (0,1))"
      ],
      "execution_count": 12,
      "outputs": []
    },
    {
      "cell_type": "code",
      "metadata": {
        "trusted": true,
        "colab": {
          "base_uri": "https://localhost:8080/"
        },
        "id": "dimLhVsoXc_L",
        "outputId": "42555783-c21f-4ef2-9307-05d920b51c48"
      },
      "source": [
        "df1.shape #Let's check the size"
      ],
      "execution_count": 13,
      "outputs": [
        {
          "output_type": "execute_result",
          "data": {
            "text/plain": [
              "(2518,)"
            ]
          },
          "metadata": {
            "tags": []
          },
          "execution_count": 13
        }
      ]
    },
    {
      "cell_type": "code",
      "metadata": {
        "trusted": true,
        "id": "4lsw_tFYXc_M"
      },
      "source": [
        "#It is clear that the df1 is a vector. \n",
        "#But the problem is MinMaxScaler works on numpy 2D arrays, not on vectors. \n",
        "#So, we will convert df1 to 2D array using np.array(df1).reshape(-1,1)) and then apply the scaling.\n",
        "df1 = scaler.fit_transform(np.array(df1).reshape(-1,1))"
      ],
      "execution_count": 14,
      "outputs": []
    },
    {
      "cell_type": "code",
      "metadata": {
        "trusted": true,
        "colab": {
          "base_uri": "https://localhost:8080/"
        },
        "id": "7JdGu-ZSXc_M",
        "outputId": "e753b57b-283c-45f3-fae3-35a09ce26ee4"
      },
      "source": [
        "print('\\n df1 present shape : ', df1.shape)"
      ],
      "execution_count": 15,
      "outputs": [
        {
          "output_type": "stream",
          "text": [
            "\n",
            " df1 present shape :  (2518, 1)\n"
          ],
          "name": "stdout"
        }
      ]
    },
    {
      "cell_type": "code",
      "metadata": {
        "trusted": true,
        "colab": {
          "base_uri": "https://localhost:8080/"
        },
        "id": "ms5KPEmYXc_N",
        "outputId": "b110284d-2e3a-4922-b258-75efcee00546"
      },
      "source": [
        "#Train Test Split\n",
        "#We will be using a 70%-30% train test split. But before applying splitting, we need to window the data. \n",
        "#For that, we will store the training and testing data and their shapes in some variables.\n",
        "training_size = int(len(df1)*0.7)\n",
        "test_size = len(df1) - training_size\n",
        "print('Training Size : ',training_size)\n",
        "print('Test Size : ',test_size)"
      ],
      "execution_count": 16,
      "outputs": [
        {
          "output_type": "stream",
          "text": [
            "Training Size :  1762\n",
            "Test Size :  756\n"
          ],
          "name": "stdout"
        }
      ]
    },
    {
      "cell_type": "code",
      "metadata": {
        "trusted": true,
        "colab": {
          "base_uri": "https://localhost:8080/"
        },
        "id": "S4XpAbhMXc_N",
        "outputId": "2d76c471-4a50-4dc4-ed80-a6baa99162db"
      },
      "source": [
        "train_data, test_data = df1[0:training_size,:],df1[training_size:len(df1),:]\n",
        "print('Training Data Shape : ', train_data.shape)\n",
        "print('Test Data Shape: ', test_data.shape)"
      ],
      "execution_count": 17,
      "outputs": [
        {
          "output_type": "stream",
          "text": [
            "Training Data Shape :  (1762, 1)\n",
            "Test Data Shape:  (756, 1)\n"
          ],
          "name": "stdout"
        }
      ]
    },
    {
      "cell_type": "code",
      "metadata": {
        "trusted": true,
        "id": "8MdgVY9QXc_O"
      },
      "source": [
        "def create_dataset(dataset, window=1):\n",
        "    dataX, dataY= [], []\n",
        "    for i in range(len(dataset)-window-1):\n",
        "        a = dataset[i:(i+window),0]\n",
        "        dataX.append(a)\n",
        "        dataY.append(dataset[i+window,0])\n",
        "    return np.array(dataX), np.array(dataY)"
      ],
      "execution_count": 18,
      "outputs": []
    },
    {
      "cell_type": "code",
      "metadata": {
        "trusted": true,
        "id": "XMARHyqnXc_O"
      },
      "source": [
        "#Lest choose window size = 100 for now and apply the windowing on training and testing data.\n",
        "window = 100\n",
        "X_train, y_train = create_dataset(train_data, window=100)\n",
        "X_test, y_test = create_dataset(test_data, window=100)"
      ],
      "execution_count": 19,
      "outputs": []
    },
    {
      "cell_type": "code",
      "metadata": {
        "trusted": true,
        "colab": {
          "base_uri": "https://localhost:8080/"
        },
        "id": "MC5sAbKBXc_P",
        "outputId": "903ead21-f0f5-4ad7-e7bf-56578fb702cf"
      },
      "source": [
        "#To make sure that the sliding window worked, lets check the shape. \n",
        "#If the dataset now do not have 100 columns then that means the windowing was not performed properly.\n",
        "print(X_train.shape, y_train.shape)\n",
        "print(X_test.shape, y_test.shape)"
      ],
      "execution_count": 20,
      "outputs": [
        {
          "output_type": "stream",
          "text": [
            "(1661, 100) (1661,)\n",
            "(655, 100) (655,)\n"
          ],
          "name": "stdout"
        }
      ]
    },
    {
      "cell_type": "code",
      "metadata": {
        "trusted": true,
        "id": "pwyU6nAvXc_Q"
      },
      "source": [
        "#The training and testing data both have 100 columns in their independent variable (X) side. \n",
        "#At last, before passing the data to the model, \n",
        "#we need to reshape the data to make is 3D as LSTM are build to only accept 3D data.\n",
        "X_train = X_train.reshape(X_train.shape[0],X_train.shape[1],1)\n",
        "X_test = X_test.reshape(X_test.shape[0],X_test.shape[1],1)"
      ],
      "execution_count": 21,
      "outputs": []
    },
    {
      "cell_type": "code",
      "metadata": {
        "trusted": true,
        "id": "D6r6NLaMXc_R"
      },
      "source": [
        "from tensorflow.keras.models import Sequential\n",
        "from tensorflow.keras.layers import Dense\n",
        "from tensorflow.keras.layers import LSTM"
      ],
      "execution_count": 22,
      "outputs": []
    },
    {
      "cell_type": "code",
      "metadata": {
        "trusted": true,
        "id": "zaYcZFMAXc_R"
      },
      "source": [
        "#We will be using the Sequential, Dense and LSTM layers to build the model. \n",
        "#Ous model will be a stacked LSTM model. That means there will be more than one LSTM layer.\n",
        "#As it is a regression like problem, so we will be using the loss='mean_squared_error'\n",
        "model = Sequential()\n",
        "model.add(LSTM(50, return_sequences = True, input_shape = (100,1)))\n",
        "model.add(LSTM(50, return_sequences = True))\n",
        "model.add(LSTM(50))\n",
        "model.add(Dense(1))\n",
        "\n",
        "model.compile(loss='mean_squared_error', optimizer = 'adam')"
      ],
      "execution_count": 23,
      "outputs": []
    },
    {
      "cell_type": "code",
      "metadata": {
        "trusted": true,
        "colab": {
          "base_uri": "https://localhost:8080/"
        },
        "id": "zOOiFUawXc_R",
        "outputId": "edbe2f2a-d88d-4447-f434-d7a462021046"
      },
      "source": [
        "model.summary()#Lets see the summary"
      ],
      "execution_count": 24,
      "outputs": [
        {
          "output_type": "stream",
          "text": [
            "Model: \"sequential\"\n",
            "_________________________________________________________________\n",
            "Layer (type)                 Output Shape              Param #   \n",
            "=================================================================\n",
            "lstm (LSTM)                  (None, 100, 50)           10400     \n",
            "_________________________________________________________________\n",
            "lstm_1 (LSTM)                (None, 100, 50)           20200     \n",
            "_________________________________________________________________\n",
            "lstm_2 (LSTM)                (None, 50)                20200     \n",
            "_________________________________________________________________\n",
            "dense (Dense)                (None, 1)                 51        \n",
            "=================================================================\n",
            "Total params: 50,851\n",
            "Trainable params: 50,851\n",
            "Non-trainable params: 0\n",
            "_________________________________________________________________\n"
          ],
          "name": "stdout"
        }
      ]
    },
    {
      "cell_type": "code",
      "metadata": {
        "trusted": true,
        "colab": {
          "base_uri": "https://localhost:8080/"
        },
        "id": "elj7XyU_Xc_S",
        "outputId": "270b47ab-8f4f-49d2-c580-7774e70e4e36"
      },
      "source": [
        "#fitting the model by using batchsize=64 and epochs=100\n",
        "model.fit(X_train,y_train,validation_data = (X_test,y_test), epochs = 100, batch_size=64,verbose=1)"
      ],
      "execution_count": 25,
      "outputs": [
        {
          "output_type": "stream",
          "text": [
            "Epoch 1/100\n",
            "26/26 [==============================] - 10s 205ms/step - loss: 0.0217 - val_loss: 0.0105\n",
            "Epoch 2/100\n",
            "26/26 [==============================] - 4s 167ms/step - loss: 0.0014 - val_loss: 3.2409e-04\n",
            "Epoch 3/100\n",
            "26/26 [==============================] - 4s 168ms/step - loss: 5.4679e-04 - val_loss: 1.9659e-04\n",
            "Epoch 4/100\n",
            "26/26 [==============================] - 4s 166ms/step - loss: 5.0772e-04 - val_loss: 2.8753e-04\n",
            "Epoch 5/100\n",
            "26/26 [==============================] - 4s 170ms/step - loss: 4.8607e-04 - val_loss: 1.9053e-04\n",
            "Epoch 6/100\n",
            "26/26 [==============================] - 4s 172ms/step - loss: 4.8653e-04 - val_loss: 2.1236e-04\n",
            "Epoch 7/100\n",
            "26/26 [==============================] - 4s 167ms/step - loss: 4.6554e-04 - val_loss: 1.4629e-04\n",
            "Epoch 8/100\n",
            "26/26 [==============================] - 4s 167ms/step - loss: 4.4156e-04 - val_loss: 1.2795e-04\n",
            "Epoch 9/100\n",
            "26/26 [==============================] - 4s 168ms/step - loss: 4.3197e-04 - val_loss: 2.2681e-04\n",
            "Epoch 10/100\n",
            "26/26 [==============================] - 4s 165ms/step - loss: 4.6795e-04 - val_loss: 1.2473e-04\n",
            "Epoch 11/100\n",
            "26/26 [==============================] - 4s 171ms/step - loss: 3.9602e-04 - val_loss: 7.7985e-05\n",
            "Epoch 12/100\n",
            "26/26 [==============================] - 4s 164ms/step - loss: 3.7350e-04 - val_loss: 8.2565e-05\n",
            "Epoch 13/100\n",
            "26/26 [==============================] - 4s 165ms/step - loss: 4.2331e-04 - val_loss: 9.1944e-05\n",
            "Epoch 14/100\n",
            "26/26 [==============================] - 4s 166ms/step - loss: 4.4112e-04 - val_loss: 1.1847e-04\n",
            "Epoch 15/100\n",
            "26/26 [==============================] - 4s 166ms/step - loss: 3.5671e-04 - val_loss: 7.2457e-05\n",
            "Epoch 16/100\n",
            "26/26 [==============================] - 4s 170ms/step - loss: 3.1737e-04 - val_loss: 6.4497e-05\n",
            "Epoch 17/100\n",
            "26/26 [==============================] - 4s 168ms/step - loss: 3.2458e-04 - val_loss: 6.4265e-05\n",
            "Epoch 18/100\n",
            "26/26 [==============================] - 4s 166ms/step - loss: 3.0850e-04 - val_loss: 7.2435e-05\n",
            "Epoch 19/100\n",
            "26/26 [==============================] - 4s 164ms/step - loss: 3.1633e-04 - val_loss: 6.2222e-05\n",
            "Epoch 20/100\n",
            "26/26 [==============================] - 4s 166ms/step - loss: 3.6901e-04 - val_loss: 7.3529e-05\n",
            "Epoch 21/100\n",
            "26/26 [==============================] - 4s 168ms/step - loss: 3.1644e-04 - val_loss: 5.9337e-05\n",
            "Epoch 22/100\n",
            "26/26 [==============================] - 4s 164ms/step - loss: 2.8285e-04 - val_loss: 7.1516e-05\n",
            "Epoch 23/100\n",
            "26/26 [==============================] - 4s 165ms/step - loss: 2.8041e-04 - val_loss: 5.9080e-05\n",
            "Epoch 24/100\n",
            "26/26 [==============================] - 4s 165ms/step - loss: 2.7013e-04 - val_loss: 5.5341e-05\n",
            "Epoch 25/100\n",
            "26/26 [==============================] - 4s 164ms/step - loss: 2.7241e-04 - val_loss: 5.6596e-05\n",
            "Epoch 26/100\n",
            "26/26 [==============================] - 4s 165ms/step - loss: 3.0512e-04 - val_loss: 7.6057e-05\n",
            "Epoch 27/100\n",
            "26/26 [==============================] - 4s 166ms/step - loss: 3.0082e-04 - val_loss: 5.4314e-05\n",
            "Epoch 28/100\n",
            "26/26 [==============================] - 4s 165ms/step - loss: 2.5370e-04 - val_loss: 5.3513e-05\n",
            "Epoch 29/100\n",
            "26/26 [==============================] - 4s 167ms/step - loss: 2.5979e-04 - val_loss: 1.2548e-04\n",
            "Epoch 30/100\n",
            "26/26 [==============================] - 4s 166ms/step - loss: 2.5199e-04 - val_loss: 5.3042e-05\n",
            "Epoch 31/100\n",
            "26/26 [==============================] - 4s 170ms/step - loss: 2.5162e-04 - val_loss: 5.3871e-05\n",
            "Epoch 32/100\n",
            "26/26 [==============================] - 4s 166ms/step - loss: 2.4062e-04 - val_loss: 6.9529e-05\n",
            "Epoch 33/100\n",
            "26/26 [==============================] - 4s 166ms/step - loss: 3.2617e-04 - val_loss: 1.3142e-04\n",
            "Epoch 34/100\n",
            "26/26 [==============================] - 4s 167ms/step - loss: 4.0118e-04 - val_loss: 7.6349e-05\n",
            "Epoch 35/100\n",
            "26/26 [==============================] - 4s 168ms/step - loss: 2.4143e-04 - val_loss: 5.3515e-05\n",
            "Epoch 36/100\n",
            "26/26 [==============================] - 4s 168ms/step - loss: 2.3259e-04 - val_loss: 5.0254e-05\n",
            "Epoch 37/100\n",
            "26/26 [==============================] - 5s 175ms/step - loss: 2.2532e-04 - val_loss: 5.1639e-05\n",
            "Epoch 38/100\n",
            "26/26 [==============================] - 4s 169ms/step - loss: 2.2344e-04 - val_loss: 6.4766e-05\n",
            "Epoch 39/100\n",
            "26/26 [==============================] - 4s 167ms/step - loss: 2.2518e-04 - val_loss: 4.9495e-05\n",
            "Epoch 40/100\n",
            "26/26 [==============================] - 4s 167ms/step - loss: 2.3047e-04 - val_loss: 4.9981e-05\n",
            "Epoch 41/100\n",
            "26/26 [==============================] - 4s 165ms/step - loss: 2.2544e-04 - val_loss: 4.8638e-05\n",
            "Epoch 42/100\n",
            "26/26 [==============================] - 4s 167ms/step - loss: 2.1609e-04 - val_loss: 7.0952e-05\n",
            "Epoch 43/100\n",
            "26/26 [==============================] - 4s 170ms/step - loss: 2.2252e-04 - val_loss: 8.2782e-05\n",
            "Epoch 44/100\n",
            "26/26 [==============================] - 4s 168ms/step - loss: 2.0565e-04 - val_loss: 6.6688e-05\n",
            "Epoch 45/100\n",
            "26/26 [==============================] - 4s 165ms/step - loss: 2.2129e-04 - val_loss: 8.4943e-05\n",
            "Epoch 46/100\n",
            "26/26 [==============================] - 4s 165ms/step - loss: 2.3156e-04 - val_loss: 5.6398e-05\n",
            "Epoch 47/100\n",
            "26/26 [==============================] - 4s 166ms/step - loss: 1.9624e-04 - val_loss: 4.8139e-05\n",
            "Epoch 48/100\n",
            "26/26 [==============================] - 4s 168ms/step - loss: 1.9844e-04 - val_loss: 4.5142e-05\n",
            "Epoch 49/100\n",
            "26/26 [==============================] - 5s 178ms/step - loss: 1.9152e-04 - val_loss: 5.8875e-05\n",
            "Epoch 50/100\n",
            "26/26 [==============================] - 4s 170ms/step - loss: 2.2603e-04 - val_loss: 4.3486e-05\n",
            "Epoch 51/100\n",
            "26/26 [==============================] - 4s 170ms/step - loss: 2.1000e-04 - val_loss: 4.3594e-05\n",
            "Epoch 52/100\n",
            "26/26 [==============================] - 4s 166ms/step - loss: 1.9087e-04 - val_loss: 5.1486e-05\n",
            "Epoch 53/100\n",
            "26/26 [==============================] - 4s 170ms/step - loss: 1.8134e-04 - val_loss: 5.2440e-05\n",
            "Epoch 54/100\n",
            "26/26 [==============================] - 4s 168ms/step - loss: 1.8400e-04 - val_loss: 5.0231e-05\n",
            "Epoch 55/100\n",
            "26/26 [==============================] - 4s 165ms/step - loss: 1.9160e-04 - val_loss: 4.1662e-05\n",
            "Epoch 56/100\n",
            "26/26 [==============================] - 4s 164ms/step - loss: 1.7343e-04 - val_loss: 5.3678e-05\n",
            "Epoch 57/100\n",
            "26/26 [==============================] - 4s 165ms/step - loss: 1.8279e-04 - val_loss: 4.3799e-05\n",
            "Epoch 58/100\n",
            "26/26 [==============================] - 4s 162ms/step - loss: 1.7451e-04 - val_loss: 4.0626e-05\n",
            "Epoch 59/100\n",
            "26/26 [==============================] - 4s 164ms/step - loss: 1.8579e-04 - val_loss: 4.6922e-05\n",
            "Epoch 60/100\n",
            "26/26 [==============================] - 4s 165ms/step - loss: 1.6692e-04 - val_loss: 3.9336e-05\n",
            "Epoch 61/100\n",
            "26/26 [==============================] - 4s 168ms/step - loss: 1.5700e-04 - val_loss: 4.6273e-05\n",
            "Epoch 62/100\n",
            "26/26 [==============================] - 4s 172ms/step - loss: 1.5820e-04 - val_loss: 4.3280e-05\n",
            "Epoch 63/100\n",
            "26/26 [==============================] - 4s 168ms/step - loss: 1.7243e-04 - val_loss: 3.8726e-05\n",
            "Epoch 64/100\n",
            "26/26 [==============================] - 4s 167ms/step - loss: 1.5416e-04 - val_loss: 3.9061e-05\n",
            "Epoch 65/100\n",
            "26/26 [==============================] - 4s 168ms/step - loss: 1.4498e-04 - val_loss: 4.3099e-05\n",
            "Epoch 66/100\n",
            "26/26 [==============================] - 4s 168ms/step - loss: 1.5598e-04 - val_loss: 8.1739e-05\n",
            "Epoch 67/100\n",
            "26/26 [==============================] - 4s 173ms/step - loss: 1.4445e-04 - val_loss: 6.2443e-05\n",
            "Epoch 68/100\n",
            "26/26 [==============================] - 4s 166ms/step - loss: 1.4256e-04 - val_loss: 3.7320e-05\n",
            "Epoch 69/100\n",
            "26/26 [==============================] - 4s 167ms/step - loss: 1.4066e-04 - val_loss: 3.6065e-05\n",
            "Epoch 70/100\n",
            "26/26 [==============================] - 4s 170ms/step - loss: 1.3795e-04 - val_loss: 4.2197e-05\n",
            "Epoch 71/100\n",
            "26/26 [==============================] - 4s 166ms/step - loss: 1.2969e-04 - val_loss: 3.9431e-05\n",
            "Epoch 72/100\n",
            "26/26 [==============================] - 4s 167ms/step - loss: 1.4139e-04 - val_loss: 5.0259e-05\n",
            "Epoch 73/100\n",
            "26/26 [==============================] - 4s 166ms/step - loss: 1.5573e-04 - val_loss: 4.1748e-05\n",
            "Epoch 74/100\n",
            "26/26 [==============================] - 4s 168ms/step - loss: 1.3495e-04 - val_loss: 6.7095e-05\n",
            "Epoch 75/100\n",
            "26/26 [==============================] - 4s 169ms/step - loss: 1.5138e-04 - val_loss: 3.4701e-05\n",
            "Epoch 76/100\n",
            "26/26 [==============================] - 4s 165ms/step - loss: 1.5116e-04 - val_loss: 3.6530e-05\n",
            "Epoch 77/100\n",
            "26/26 [==============================] - 4s 167ms/step - loss: 1.3913e-04 - val_loss: 3.5269e-05\n",
            "Epoch 78/100\n",
            "26/26 [==============================] - 4s 166ms/step - loss: 1.2441e-04 - val_loss: 3.3699e-05\n",
            "Epoch 79/100\n",
            "26/26 [==============================] - 4s 170ms/step - loss: 1.2020e-04 - val_loss: 3.7812e-05\n",
            "Epoch 80/100\n",
            "26/26 [==============================] - 4s 167ms/step - loss: 1.2140e-04 - val_loss: 4.1643e-05\n",
            "Epoch 81/100\n",
            "26/26 [==============================] - 4s 166ms/step - loss: 1.3063e-04 - val_loss: 3.2276e-05\n",
            "Epoch 82/100\n",
            "26/26 [==============================] - 4s 166ms/step - loss: 1.2018e-04 - val_loss: 3.4442e-05\n",
            "Epoch 83/100\n",
            "26/26 [==============================] - 4s 170ms/step - loss: 1.1227e-04 - val_loss: 3.3232e-05\n",
            "Epoch 84/100\n",
            "26/26 [==============================] - 4s 169ms/step - loss: 1.2776e-04 - val_loss: 3.2247e-05\n",
            "Epoch 85/100\n",
            "26/26 [==============================] - 4s 168ms/step - loss: 1.3761e-04 - val_loss: 4.8717e-05\n",
            "Epoch 86/100\n",
            "26/26 [==============================] - 4s 167ms/step - loss: 1.2080e-04 - val_loss: 4.7441e-05\n",
            "Epoch 87/100\n",
            "26/26 [==============================] - 4s 166ms/step - loss: 1.2421e-04 - val_loss: 3.1572e-05\n",
            "Epoch 88/100\n",
            "26/26 [==============================] - 4s 167ms/step - loss: 1.1251e-04 - val_loss: 3.6152e-05\n",
            "Epoch 89/100\n",
            "26/26 [==============================] - 4s 166ms/step - loss: 1.0708e-04 - val_loss: 3.4911e-05\n",
            "Epoch 90/100\n",
            "26/26 [==============================] - 4s 165ms/step - loss: 1.4804e-04 - val_loss: 1.1473e-04\n",
            "Epoch 91/100\n",
            "26/26 [==============================] - 4s 168ms/step - loss: 1.7055e-04 - val_loss: 3.1207e-05\n",
            "Epoch 92/100\n",
            "26/26 [==============================] - 4s 165ms/step - loss: 1.0941e-04 - val_loss: 3.3160e-05\n",
            "Epoch 93/100\n",
            "26/26 [==============================] - 4s 165ms/step - loss: 1.0758e-04 - val_loss: 3.0801e-05\n",
            "Epoch 94/100\n",
            "26/26 [==============================] - 4s 168ms/step - loss: 1.0659e-04 - val_loss: 2.9758e-05\n",
            "Epoch 95/100\n",
            "26/26 [==============================] - 4s 167ms/step - loss: 1.4118e-04 - val_loss: 3.0717e-05\n",
            "Epoch 96/100\n",
            "26/26 [==============================] - 4s 168ms/step - loss: 1.0926e-04 - val_loss: 2.9032e-05\n",
            "Epoch 97/100\n",
            "26/26 [==============================] - 4s 167ms/step - loss: 1.0783e-04 - val_loss: 2.9625e-05\n",
            "Epoch 98/100\n",
            "26/26 [==============================] - 4s 169ms/step - loss: 1.1319e-04 - val_loss: 2.9880e-05\n",
            "Epoch 99/100\n",
            "26/26 [==============================] - 4s 169ms/step - loss: 1.3117e-04 - val_loss: 3.0393e-05\n",
            "Epoch 100/100\n",
            "26/26 [==============================] - 4s 164ms/step - loss: 1.0206e-04 - val_loss: 3.4514e-05\n"
          ],
          "name": "stdout"
        },
        {
          "output_type": "execute_result",
          "data": {
            "text/plain": [
              "<tensorflow.python.keras.callbacks.History at 0x7ffa179daa50>"
            ]
          },
          "metadata": {
            "tags": []
          },
          "execution_count": 25
        }
      ]
    },
    {
      "cell_type": "code",
      "metadata": {
        "trusted": true,
        "id": "9AhYwqiZXc_S"
      },
      "source": [
        "#Now, as the model is trained, lets check its prediction on the test data. \n",
        "#We will store the prediction in y_pred, but as the data is scaled,\n",
        "#so, we will inverse scale the data using scaler.inverse_transform() method.\n",
        "y_pred = scaler.inverse_transform(model.predict(X_test))"
      ],
      "execution_count": 26,
      "outputs": []
    },
    {
      "cell_type": "code",
      "metadata": {
        "trusted": true,
        "id": "pLb5V7N0Xc_S"
      },
      "source": [
        "#Lets also inverse scale the y_train data so that we can compare the data.\n",
        "y_test = scaler.inverse_transform(y_test.reshape(-1, 1))"
      ],
      "execution_count": 27,
      "outputs": []
    },
    {
      "cell_type": "code",
      "metadata": {
        "trusted": true,
        "colab": {
          "base_uri": "https://localhost:8080/"
        },
        "id": "r4acQwSQXc_T",
        "outputId": "5eceab84-ed64-4094-b38a-d7855b95da31"
      },
      "source": [
        "y_pred[:5]"
      ],
      "execution_count": 28,
      "outputs": [
        {
          "output_type": "execute_result",
          "data": {
            "text/plain": [
              "array([[93.18573 ],\n",
              "       [94.152756],\n",
              "       [94.65213 ],\n",
              "       [94.926414],\n",
              "       [95.38178 ]], dtype=float32)"
            ]
          },
          "metadata": {
            "tags": []
          },
          "execution_count": 28
        }
      ]
    },
    {
      "cell_type": "code",
      "metadata": {
        "trusted": true,
        "colab": {
          "base_uri": "https://localhost:8080/"
        },
        "id": "e0wB_ZWWXc_T",
        "outputId": "42521799-2db4-4493-a662-984bad4f564e"
      },
      "source": [
        "y_test[:5]"
      ],
      "execution_count": 29,
      "outputs": [
        {
          "output_type": "execute_result",
          "data": {
            "text/plain": [
              "array([[94.4728],\n",
              "       [94.1985],\n",
              "       [95.3007],\n",
              "       [97.3314],\n",
              "       [95.0257]])"
            ]
          },
          "metadata": {
            "tags": []
          },
          "execution_count": 29
        }
      ]
    },
    {
      "cell_type": "code",
      "metadata": {
        "trusted": true,
        "colab": {
          "base_uri": "https://localhost:8080/"
        },
        "id": "yaShbnflXc_T",
        "outputId": "ce8199e4-10bd-4122-cc5f-52cc42edc7fa"
      },
      "source": [
        "import math\n",
        "from sklearn.metrics import mean_squared_error\n",
        "\n",
        "rmse_score = math.sqrt(mean_squared_error(y_test,y_pred))\n",
        "print('Root Mean Squared Error(test) : ',rmse_score)"
      ],
      "execution_count": 30,
      "outputs": [
        {
          "output_type": "stream",
          "text": [
            "Root Mean Squared Error(test) :  1.746963470562233\n"
          ],
          "name": "stdout"
        }
      ]
    },
    {
      "cell_type": "code",
      "metadata": {
        "trusted": true,
        "colab": {
          "base_uri": "https://localhost:8080/"
        },
        "id": "A3q3xnbMXc_U",
        "outputId": "3af56a6a-a703-45fa-ab16-1f782f18f0a2"
      },
      "source": [
        "from sklearn.metrics import r2_score\n",
        "print('R-squared Score  : ',r2_score(y_test,y_pred))"
      ],
      "execution_count": 31,
      "outputs": [
        {
          "output_type": "stream",
          "text": [
            "R-squared Score  :  0.9912358510701741\n"
          ],
          "name": "stdout"
        }
      ]
    },
    {
      "cell_type": "code",
      "metadata": {
        "trusted": true,
        "colab": {
          "base_uri": "https://localhost:8080/",
          "height": 881
        },
        "id": "bZ-L7iaqXc_U",
        "outputId": "21c978b8-91e9-41bf-b769-de682128c3b7"
      },
      "source": [
        "# shift train predictions for plotting\n",
        "train_predict = scaler.inverse_transform(model.predict(X_train))\n",
        "\n",
        "look_back=100\n",
        "trainPredictPlot = np.empty_like(df1)\n",
        "trainPredictPlot[:, :] = np.nan\n",
        "trainPredictPlot[look_back:len(train_predict)+look_back, :] = train_predict\n",
        "# shift test predictions for plotting\n",
        "testPredictPlot = np.empty_like(df1)\n",
        "testPredictPlot[:, :] = np.nan\n",
        "testPredictPlot[len(train_predict)+(look_back*2)+1:len(df1)-1, :] = y_pred\n",
        "# plot baseline and predictions\n",
        "plt.plot(scaler.inverse_transform(df1))\n",
        "plt.plot(trainPredictPlot)\n",
        "plt.plot(testPredictPlot)\n",
        "plt.legend()\n",
        "plt.show()"
      ],
      "execution_count": 32,
      "outputs": [
        {
          "output_type": "stream",
          "text": [
            "No handles with labels found to put in legend.\n"
          ],
          "name": "stderr"
        },
        {
          "output_type": "display_data",
          "data": {
            "image/png": "[encoded data removed]",
            "text/plain": [
              "<Figure size 1440x1080 with 1 Axes>"
            ]
          },
          "metadata": {
            "tags": [],
            "needs_background": "light"
          }
        }
      ]
    },
    {
      "cell_type": "code",
      "metadata": {
        "trusted": true,
        "colab": {
          "base_uri": "https://localhost:8080/"
        },
        "id": "2Sa6kua3Xc_U",
        "outputId": "1aab86d7-2c27-4ad1-ebd7-0902e0c9a9fa"
      },
      "source": [
        "#predicting 60 days in future\n",
        "\n",
        "#we need to predict each days values first, then use that value along with 99 others to make a series of 100 . \n",
        "#The following code does exactly that, and iteratively predicts the 60 days stock value. \n",
        "#The values are stored and finally displayed and visualized.\n",
        "\n",
        "x_input=test_data[len(test_data)-100:].reshape(1,-1)\n",
        "x_input.shape"
      ],
      "execution_count": 33,
      "outputs": [
        {
          "output_type": "execute_result",
          "data": {
            "text/plain": [
              "(1, 100)"
            ]
          },
          "metadata": {
            "tags": []
          },
          "execution_count": 33
        }
      ]
    },
    {
      "cell_type": "code",
      "metadata": {
        "trusted": true,
        "id": "P8PxE0X5Xc_V"
      },
      "source": [
        "temp_input=list(x_input)\n",
        "temp_input=temp_input[0].tolist()"
      ],
      "execution_count": 34,
      "outputs": []
    },
    {
      "cell_type": "code",
      "metadata": {
        "trusted": true,
        "id": "1N9Aypt_Xc_V"
      },
      "source": [
        "# demonstrate prediction for next 30 days\n",
        "from numpy import array\n",
        "\n",
        "lst_output=[]\n",
        "n_steps=100\n",
        "i=0\n",
        "while(i<60):\n",
        "    \n",
        "    if(len(temp_input)>100):\n",
        "        #print(temp_input)\n",
        "        x_input=np.array(temp_input[1:])\n",
        "        #print(\"{} day input {}\".format(i,x_input))\n",
        "        x_input=x_input.reshape(1,-1)\n",
        "        x_input = x_input.reshape((1, n_steps, 1))\n",
        "        #print(x_input)\n",
        "        yhat = model.predict(x_input, verbose=0)\n",
        "        #print(\"{} day output {}\".format(i,yhat))\n",
        "        temp_input.extend(yhat[0].tolist())\n",
        "        temp_input=temp_input[1:]\n",
        "        #print(temp_input)\n",
        "        lst_output.extend(yhat.tolist())\n",
        "        i=i+1\n",
        "    else:\n",
        "        x_input = x_input.reshape((1, n_steps,1))\n",
        "        yhat = model.predict(x_input, verbose=0)\n",
        "        #print(yhat[0])\n",
        "        temp_input.extend(yhat[0].tolist())\n",
        "        #print(len(temp_input))\n",
        "        lst_output.extend(yhat.tolist())\n",
        "        i=i+1\n",
        "    \n",
        "\n",
        "#print(lst_output)"
      ],
      "execution_count": 35,
      "outputs": []
    },
    {
      "cell_type": "code",
      "metadata": {
        "trusted": true,
        "id": "c_Ffa57mXc_W"
      },
      "source": [
        "day_new=np.arange(1,101)\n",
        "day_pred=np.arange(101,161)"
      ],
      "execution_count": 36,
      "outputs": []
    },
    {
      "cell_type": "code",
      "metadata": {
        "trusted": true,
        "colab": {
          "base_uri": "https://localhost:8080/"
        },
        "id": "f1rzQupaXc_W",
        "outputId": "4ce05043-e608-49a5-e2f3-95bb332806e0"
      },
      "source": [
        "print(scaler.inverse_transform(lst_output))"
      ],
      "execution_count": 37,
      "outputs": [
        {
          "output_type": "stream",
          "text": [
            "[[31.82391196]\n",
            " [31.68989761]\n",
            " [31.73319265]\n",
            " [31.89519727]\n",
            " [32.11967738]\n",
            " [32.36843119]\n",
            " [32.62044905]\n",
            " [32.86640131]\n",
            " [33.10343493]\n",
            " [33.33167398]\n",
            " [33.55229104]\n",
            " [33.76663922]\n",
            " [33.9759227 ]\n",
            " [34.18114066]\n",
            " [34.38309237]\n",
            " [34.58241645]\n",
            " [34.77961472]\n",
            " [34.97506881]\n",
            " [35.16905844]\n",
            " [35.36176582]\n",
            " [35.55330561]\n",
            " [35.74372656]\n",
            " [35.93303752]\n",
            " [36.12121524]\n",
            " [36.30821539]\n",
            " [36.49398815]\n",
            " [36.67848253]\n",
            " [36.86164981]\n",
            " [37.04345343]\n",
            " [37.22386236]\n",
            " [37.40285668]\n",
            " [37.58043195]\n",
            " [37.75658373]\n",
            " [37.93131978]\n",
            " [38.10465673]\n",
            " [38.27661228]\n",
            " [38.44720639]\n",
            " [38.61646121]\n",
            " [38.7844    ]\n",
            " [38.95105045]\n",
            " [39.11642808]\n",
            " [39.28056279]\n",
            " [39.4434701 ]\n",
            " [39.60516772]\n",
            " [39.76567892]\n",
            " [39.92501256]\n",
            " [40.08318748]\n",
            " [40.24021697]\n",
            " [40.39611542]\n",
            " [40.55089282]\n",
            " [40.7045569 ]\n",
            " [40.85712651]\n",
            " [41.00861051]\n",
            " [41.15901776]\n",
            " [41.30835933]\n",
            " [41.45664298]\n",
            " [41.60388755]\n",
            " [41.75009414]\n",
            " [41.89527715]\n",
            " [42.03944434]]\n"
          ],
          "name": "stdout"
        }
      ]
    },
    {
      "cell_type": "code",
      "metadata": {
        "trusted": true,
        "colab": {
          "base_uri": "https://localhost:8080/",
          "height": 881
        },
        "id": "Ne8xW2R7Xc_X",
        "outputId": "c05680f0-8550-47c6-99bd-60123aad796c"
      },
      "source": [
        "plt.plot(day_new,scaler.inverse_transform(df1[len(df1)-100:]))\n",
        "#plt.plot(day_pred,scaler.inverse_transform(lst_output))"
      ],
      "execution_count": 39,
      "outputs": [
        {
          "output_type": "execute_result",
          "data": {
            "text/plain": [
              "[<matplotlib.lines.Line2D at 0x7ffa12e599d0>]"
            ]
          },
          "metadata": {
            "tags": []
          },
          "execution_count": 39
        },
        {
          "output_type": "display_data",
          "data": {
            "image/png": "[encoded data removed]",
            "text/plain": [
              "<Figure size 1440x1080 with 1 Axes>"
            ]
          },
          "metadata": {
            "tags": [],
            "needs_background": "light"
          }
        }
      ]
    },
    {
      "cell_type": "code",
      "metadata": {
        "id": "rAnk41vqXc_X"
      },
      "source": [
        ""
      ],
      "execution_count": null,
      "outputs": []
    }
  ]
}